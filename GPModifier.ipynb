{
 "cells": [
  {
   "cell_type": "code",
   "execution_count": 1,
   "metadata": {},
   "outputs": [],
   "source": [
    "import json\n",
    "spec = json.load(open('gpsys.json'))"
   ]
  },
  {
   "cell_type": "code",
   "execution_count": 83,
   "metadata": {},
   "outputs": [],
   "source": [
    "import numpy as np\n",
    "import scipy.stats\n",
    "from sklearn.gaussian_process.kernels import RBF\n",
    "from sklearn.gaussian_process.kernels import ConstantKernel\n",
    "from sklearn.gaussian_process.kernels import WhiteKernel\n",
    "from sklearn.gaussian_process.kernels import Matern\n",
    "from sklearn.gaussian_process.kernels import RationalQuadratic\n",
    "from sklearn.gaussian_process import GaussianProcessRegressor"
   ]
  },
  {
   "cell_type": "code",
   "execution_count": 84,
   "metadata": {},
   "outputs": [
    {
     "name": "stdout",
     "output_type": "stream",
     "text": [
      "Populating the interactive namespace from numpy and matplotlib\n"
     ]
    },
    {
     "name": "stderr",
     "output_type": "stream",
     "text": [
      "/Users/lukas/Code/pyhfdev/venv/lib/python3.5/site-packages/IPython/core/magics/pylab.py:160: UserWarning: pylab import has clobbered these variables: ['mod', 'plot']\n",
      "`%matplotlib` prevents importing * from pylab and numpy\n",
      "  \"\\n`%matplotlib` prevents importing * from pylab and numpy\"\n"
     ]
    }
   ],
   "source": [
    "%pylab inline"
   ]
  },
  {
   "cell_type": "code",
   "execution_count": 107,
   "metadata": {},
   "outputs": [],
   "source": [
    "class mod(object):\n",
    "    def get_gp(self, X, y, alpha=10**-3, kernel_name='const_rbf', seed = 1234):\n",
    "        kernel = ConstantKernel(\n",
    "    #             constant_value_bounds=[1.,100.0]\n",
    "                ) * Matern(\n",
    "                    length_scale_bounds=[2.,10.], length_scale = [10.,10.,1.,1.],\n",
    "                ) + WhiteKernel(noise_level_bounds=[1.,3.]\n",
    "    #                 constant_value_bounds=[0,0.001]\n",
    "    #             ) * Matern(\n",
    "    #                 length_scale_bounds=[.001,100]\n",
    "                )\n",
    "        gp = GaussianProcessRegressor(kernel=kernel, n_restarts_optimizer=10, alpha=alpha, random_state=seed)\n",
    "        gp.fit(X, y.ravel())\n",
    "        return gp\n",
    "\n",
    "    def make_gp(self):\n",
    "        for_gp_X = self.plcmtX[np.asarray(self.evals[:,0], dtype='int')]\n",
    "        for_gp_X = np.concatenate([for_gp_X,self.evals[:,1:-1]], axis=1)\n",
    "        for_gp_y = self.evals[:,-1]\n",
    "        self.gp = self.get_gp(for_gp_X,for_gp_y)    \n",
    "\n",
    "    def eval_gp(self,chan_ind,alphas,**kwargs):\n",
    "        evalX  = self.plcmtX[chan_ind]\n",
    "        evalA  = np.einsum('x,a->xa',np.ones((len(evalX),)),alphas)\n",
    "        return self.gp.predict(np.concatenate([evalX,evalA],axis=1), **kwargs)\n",
    "\n",
    "    def __init__(self,s):\n",
    "        noms = [s['channels'][i]['samples'][0]['data'] for i in range(len(s['channels']))]\n",
    "        nom = np.concatenate(noms)\n",
    "\n",
    "        self.evals = np.concatenate([spec['channels'][i]['samples'][0]['modifiers'][0]['data']['evals'] for i in range(len(spec['channels']))])\n",
    "\n",
    "        cuts = [0] + np.cumsum([len(n) for n in noms]).tolist()\n",
    "        self.sli = [slice(cuts[i],cuts[i+1]) for i in range(len(cuts)-1)]\n",
    "\n",
    "        self.chan_ind = list(range(len(nom)))\n",
    "        self.plcmtX   = np.concatenate([s['channels'][i]['samples'][0]['modifiers'][0]['data']['plcmt'] for i in range(len(s['channels']))])\n",
    "        self.make_gp()\n",
    "        \n",
    "        self.auxdata_deltas = [0.] * len(self.chan_ind)\n",
    "        self.auxdata_alphas = [0.]*(m.evals.shape[-1]-2)"
   ]
  },
  {
   "cell_type": "code",
   "execution_count": 108,
   "metadata": {},
   "outputs": [
    {
     "data": {
      "text/plain": [
       "[0.0, 0.0]"
      ]
     },
     "execution_count": 108,
     "metadata": {},
     "output_type": "execute_result"
    }
   ],
   "source": [
    "m = mod(spec)\n",
    "[0.]*(m.evals.shape[-1]-2)"
   ]
  },
  {
   "cell_type": "code",
   "execution_count": 390,
   "metadata": {},
   "outputs": [],
   "source": [
    "def plot(axarr,m,alphas,gammas):\n",
    "#     alphas = np.asarray([a0,a1])\n",
    "#     gammas = np.asarray([global_gamma]*len(m.chan_ind))\n",
    "\n",
    "    f,axarr = plt.subplots(1,5)\n",
    "    f.set_size_inches(20,4)\n",
    "\n",
    "    vmin,vmax = 40,60 \n",
    "    \n",
    "    evalX  = m.plcmtX[m.chan_ind]\n",
    "    mean,err = m.eval_gp(m.chan_ind,alphas, return_std=True)\n",
    "\n",
    "    deltas = (gammas-1)*mean\n",
    "\n",
    "    ax = axarr[0]\n",
    "    ax.set_title('delta constraints')\n",
    "    ax.set_ylim(-10,10)\n",
    "    ax.fill_between(m.chan_ind,-err,err, facecolor = 'grey', alpha = 0.2)\n",
    "    ax.scatter(m.chan_ind,m.auxdata_deltas, c = 'k')\n",
    "    ax.scatter(m.chan_ind,deltas, c = 'r')\n",
    "    \n",
    "    \n",
    "    ax = axarr[1]\n",
    "    ax.set_title('channels in X space')\n",
    "    ax.set_xlim(0,10)\n",
    "    ax.set_ylim(0,10)\n",
    "    ax.scatter(evalX[:,0],evalX[:,1], c = mean, vmin = vmin,vmax = vmax)\n",
    "    \n",
    "    ax = axarr[2]\n",
    "    ax.set_title('channels concatenated')\n",
    "    for sl in m.sli:\n",
    "        bin_num = m.chan_ind[sl]\n",
    "        ch_y = mean[sl]\n",
    "\n",
    "        ch_deltas_applied = (mean+deltas)[sl]\n",
    "\n",
    "        y_m_err = (mean-err)[sl]\n",
    "        y_p_err = (mean+err)[sl]\n",
    "        ax.fill_between(bin_num,y_m_err,y_p_err, facecolor = 'grey', alpha = 0.2)\n",
    "        ax.scatter(bin_num,ch_y)\n",
    "        ax.plot(bin_num,ch_y)\n",
    "\n",
    "        ax.scatter(bin_num,ch_deltas_applied, c = 'k')\n",
    "        ax.plot(bin_num,ch_deltas_applied, c = 'k')\n",
    "    ax.set_ylim(0,1.2*vmax)\n",
    "    \n",
    "    \n",
    "    ax = axarr[3]\n",
    "    ax.set_title('alpha constraint')\n",
    "\n",
    "\n",
    "    A = x,y = np.mgrid[-1.5:1.5:21j,-1.5:1.5:21j]\n",
    "    A = np.einsum('abc->bca',A)\n",
    "    A = A.reshape(21*21,2)\n",
    "        \n",
    "    pdf = scipy.stats.multivariate_normal(alphas,[[1.,0],[0,1.]])\n",
    "    z = pdf.pdf(A)\n",
    "    z = z.reshape(21,21)\n",
    "\n",
    "    ax.contourf(x,y,z, cmap = 'viridis')\n",
    "    ax.scatter(m.auxdata_alphas[0],m.auxdata_alphas[1], c = 'k')\n",
    "    ax.scatter(alphas[0],alphas[1], c = 'r')\n",
    "\n",
    "    al = m.evals[:,1:-1]\n",
    "    ax.scatter(al[:,0],al[:,1], alpha = 0.5, c = 'w')\n",
    "    ax.set_xlim(-1.5,1.5)\n",
    "    ax.set_ylim(-1.5,1.5)\n",
    "    \n",
    "    \n",
    "    ax = axarr[4]\n",
    "    ax.set_title('Evaluations Per Bin')\n",
    "    ax.scatter(m.evals[:,0],m.evals[:,-1], alpha = 0.1, c = 'b')\n",
    "    ax.set_xlim(0,np.max(m.chan_ind))\n",
    "    for sl in m.sli:\n",
    "        bin_num = m.chan_ind[sl]\n",
    "        ch_y = mean[sl]\n",
    "\n",
    "\n",
    "        y_m_err = (mean-err)[sl]\n",
    "        y_p_err = (mean+err)[sl]\n",
    "        ax.fill_between(bin_num,y_m_err,y_p_err, facecolor = 'grey', alpha = 0.2)\n",
    "        ax.plot(bin_num,ch_y, c = 'k', alpha = 0.1)\n",
    "\n",
    "    ax.set_ylim(0,1.2*vmax)"
   ]
  },
  {
   "cell_type": "code",
   "execution_count": 391,
   "metadata": {},
   "outputs": [],
   "source": [
    "# from ipywidgets import interact, fixed, widgets\n",
    "# interact(plot, m = fixed(m), a0 = (-1,1,0.1), a1 = (-1,1,0.1), global_gamma = (0.9,1.1,0.01))"
   ]
  },
  {
   "cell_type": "code",
   "execution_count": 404,
   "metadata": {},
   "outputs": [],
   "source": [
    "alphas = [widgets.FloatSlider(\n",
    "    value=np.random.uniform(-0.3,0.3),\n",
    "    min=-1.5,\n",
    "    max=1.5,\n",
    "    step=0.05,\n",
    "    disabled=False,\n",
    "    continuous_update=False,\n",
    "    readout=True,\n",
    "    readout_format='.1f',\n",
    "#     layout={'width': '20px', 'height': '130px', 'margin': '1px'}\n",
    ") for x in m.auxdata_alphas]\n",
    "\n",
    "gammas = [widgets.FloatSlider(\n",
    "    value=1 + 0.05*np.sin(i/2.),\n",
    "    min=0.9,\n",
    "    max=1.1,\n",
    "    step=0.01,\n",
    "    disabled=False,\n",
    "    continuous_update=False,\n",
    "    orientation='vertical',\n",
    "    readout=True,\n",
    "    readout_format='.1f',\n",
    "    layout={'width': '25px', 'height': '175px', 'margin': '1px'}\n",
    ") for i,x in enumerate(m.auxdata_deltas)]\n",
    "\n",
    "controls = widgets.VBox(alphas + [widgets.HBox(gammas)])"
   ]
  },
  {
   "cell_type": "code",
   "execution_count": 405,
   "metadata": {},
   "outputs": [
    {
     "data": {
      "application/vnd.jupyter.widget-view+json": {
       "model_id": "2508ec701d3340359ae7006de9a3b61e",
       "version_major": 2,
       "version_minor": 0
      },
      "text/plain": [
       "VBox(children=(FloatSlider(value=-0.2189366801285641, continuous_update=False, max=1.5, min=-1.5, readout_form…"
      ]
     },
     "metadata": {},
     "output_type": "display_data"
    },
    {
     "data": {
      "application/vnd.jupyter.widget-view+json": {
       "model_id": "f38c616741eb4ebf8aef4f3e1daa1968",
       "version_major": 2,
       "version_minor": 0
      },
      "text/plain": [
       "Output()"
      ]
     },
     "metadata": {},
     "output_type": "display_data"
    }
   ],
   "source": [
    "def f(m,**kwargs):\n",
    "    alphas = np.asarray([kwargs['a{}'.format(i)] for i in range(len(m.auxdata_alphas))])\n",
    "    gammas = np.asarray([kwargs['g{}'.format(i)] for i in range(len(m.auxdata_deltas))])\n",
    "    plot(axarr,m,alphas,gammas)\n",
    "    plt.show()\n",
    "what = {}\n",
    "for i,a in enumerate(alphas):\n",
    "    what['a{}'.format(i)] = a\n",
    "for i,g in enumerate(gammas):\n",
    "    what['g{}'.format(i)] = g\n",
    "what['m'] = fixed(m)\n",
    "out = widgets.interactive_output(f,what)\n",
    "\n",
    "controls = widgets.VBox(alphas + [widgets.HBox(gammas)])\n",
    "display(controls)\n",
    "display(out)"
   ]
  },
  {
   "cell_type": "code",
   "execution_count": null,
   "metadata": {},
   "outputs": [],
   "source": []
  },
  {
   "cell_type": "code",
   "execution_count": null,
   "metadata": {},
   "outputs": [],
   "source": []
  }
 ],
 "metadata": {
  "kernelspec": {
   "display_name": "Python 3",
   "language": "python",
   "name": "python3"
  },
  "language_info": {
   "codemirror_mode": {
    "name": "ipython",
    "version": 3
   },
   "file_extension": ".py",
   "mimetype": "text/x-python",
   "name": "python",
   "nbconvert_exporter": "python",
   "pygments_lexer": "ipython3",
   "version": "3.5.1"
  }
 },
 "nbformat": 4,
 "nbformat_minor": 2
}
