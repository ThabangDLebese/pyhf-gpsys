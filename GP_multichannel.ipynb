{
 "cells": [
  {
   "cell_type": "code",
   "execution_count": 1,
   "metadata": {},
   "outputs": [
    {
     "name": "stdout",
     "output_type": "stream",
     "text": [
      "Populating the interactive namespace from numpy and matplotlib\n"
     ]
    }
   ],
   "source": [
    "import numpy as np\n",
    "%pylab inline"
   ]
  },
  {
   "cell_type": "code",
   "execution_count": 199,
   "metadata": {},
   "outputs": [
    {
     "data": {
      "text/plain": [
       "Text(0, 0.5, 'o2')"
      ]
     },
     "execution_count": 199,
     "metadata": {},
     "output_type": "execute_result"
    },
    {
     "data": {
      "image/png": "[encoded data removed]",
      "text/plain": [
       "<Figure size 360x360 with 1 Axes>"
      ]
     },
     "metadata": {
      "needs_background": "light"
     },
     "output_type": "display_data"
    }
   ],
   "source": [
    "X = np.mgrid[0:10:11j,0:10:11j]\n",
    "X = np.einsum('abc->bca',X).reshape(11**2,2)\n",
    "plt.scatter(X[:,0],X[:,1], alpha = 0.2, c = 'k')\n",
    "\n",
    "\n",
    "\n",
    "o1 = np.linspace(0,10,11)\n",
    "o2 = np.ones_like(o1)*1\n",
    "\n",
    "chan1 = np.concatenate([o1.reshape(-1,1),o2.reshape(-1,1)],axis=1)\n",
    "plt.scatter(chan1[:,0],chan1[:,1], c = 'g')\n",
    "\n",
    "\n",
    "o1 = np.linspace(3,9,7)\n",
    "o2 = o1+1\n",
    "\n",
    "chan2 = np.concatenate([o1.reshape(-1,1),o2.reshape(-1,1)],axis=1)\n",
    "plt.scatter(chan2[:,0],chan2[:,1], c = 'b')\n",
    "\n",
    "o1 = np.ones(5,)*1\n",
    "o2 = np.linspace(2,7,5)\n",
    "chan3 = np.concatenate([o1.reshape(-1,1),o2.reshape(-1,1)],axis=1)\n",
    "plt.scatter(chan3[:,0],chan3[:,1], c = 'r')\n",
    "\n",
    "plt.gcf().set_size_inches(5,5)\n",
    "plt.xlabel('o1')\n",
    "plt.ylabel('o2')"
   ]
  },
  {
   "cell_type": "code",
   "execution_count": 200,
   "metadata": {},
   "outputs": [],
   "source": [
    "observX = np.concatenate([chan1,chan2,chan3])"
   ]
  },
  {
   "cell_type": "code",
   "execution_count": 201,
   "metadata": {},
   "outputs": [
    {
     "data": {
      "image/png": "[encoded data removed]",
      "text/plain": [
       "<Figure size 360x360 with 1 Axes>"
      ]
     },
     "metadata": {
      "needs_background": "light"
     },
     "output_type": "display_data"
    }
   ],
   "source": [
    "plt.scatter(observX[:,0],observX[:,1])\n",
    "plt.xlim(0,10)\n",
    "plt.ylim(0,10)\n",
    "plt.gcf().set_size_inches(5,5)"
   ]
  },
  {
   "cell_type": "code",
   "execution_count": 202,
   "metadata": {},
   "outputs": [
    {
     "data": {
      "text/plain": [
       "[<matplotlib.lines.Line2D at 0x1166a17f0>]"
      ]
     },
     "execution_count": 202,
     "metadata": {},
     "output_type": "execute_result"
    },
    {
     "data": {
      "image/png": "[encoded data removed]",
      "text/plain": [
       "<Figure size 432x288 with 1 Axes>"
      ]
     },
     "metadata": {
      "needs_background": "light"
     },
     "output_type": "display_data"
    }
   ],
   "source": [
    "x = np.linspace(0,10)\n",
    "y = x**2\n",
    "plt.plot(x,y)"
   ]
  },
  {
   "cell_type": "code",
   "execution_count": 203,
   "metadata": {},
   "outputs": [],
   "source": [
    "def truth(X,alphas):\n",
    "    al0, al1 = alphas[:,0], alphas[:,1]\n",
    "    x0,x1 = X[:,0], X[:,1]\n",
    "\n",
    "    norm1 = 1.5-al1\n",
    "    norm2 = 3.0-norm1\n",
    "    f0 = 3-al0\n",
    "    f1 = 3-al1\n",
    "    len0 = 5*f0\n",
    "    len1 = 7*f1\n",
    "    \n",
    "    return 20 * (norm1 * np.exp(-x0/len0) + norm2 * np.exp(-x1/len1))"
   ]
  },
  {
   "cell_type": "code",
   "execution_count": 204,
   "metadata": {},
   "outputs": [
    {
     "data": {
      "text/plain": [
       "-1"
      ]
     },
     "execution_count": 204,
     "metadata": {},
     "output_type": "execute_result"
    }
   ],
   "source": [
    "np.sign(-1)"
   ]
  },
  {
   "cell_type": "code",
   "execution_count": 205,
   "metadata": {},
   "outputs": [],
   "source": [
    "# np.random.randint(len())\n",
    "# observX"
   ]
  },
  {
   "cell_type": "code",
   "execution_count": 206,
   "metadata": {},
   "outputs": [
    {
     "name": "stdout",
     "output_type": "stream",
     "text": [
      "[ 0  1  2  3  4  5  6  7  8  9 10 11 12 13 14 15 16 17 18 19 20 21 22]\n"
     ]
    }
   ],
   "source": [
    "global_chan_numbers = np.arange(len(observX))\n",
    "print(global_chan_numbers)\n",
    "\n",
    "ind = [0] + np.cumsum([len(chan1),len(chan2),len(chan3)]).tolist()\n",
    "sli = [slice(ind[i],ind[i+1]) for i in range(len(ind)-1)]\n",
    "\n",
    "\n",
    "meas_chan = [0,1,2]\n",
    "\n",
    "chan_datas = []\n",
    "for chan_num in meas_chan:\n",
    "    global_chan_numbers[sli[1]]\n",
    "    n_evals = 20\n",
    "    bin_nums  = np.random.choice(global_chan_numbers[sli[chan_num]], size = n_evals)\n",
    "    alphas    = np.random.uniform(-1.3,1.3, size = (n_evals,2))\n",
    "    chan_data = np.concatenate([bin_nums.reshape(-1,1),alphas], axis=1)\n",
    "    chan_datas.append(chan_data)\n"
   ]
  },
  {
   "cell_type": "code",
   "execution_count": 207,
   "metadata": {},
   "outputs": [
    {
     "data": {
      "text/plain": [
       "<matplotlib.collections.PathCollection at 0x116b09390>"
      ]
     },
     "execution_count": 207,
     "metadata": {},
     "output_type": "execute_result"
    },
    {
     "data": {
      "image/png": "[encoded data removed]",
      "text/plain": [
       "<Figure size 432x288 with 1 Axes>"
      ]
     },
     "metadata": {
      "needs_background": "light"
     },
     "output_type": "display_data"
    }
   ],
   "source": [
    "this = observX[np.asarray(chan_datas[0][:,0], dtype='int')]\n",
    "plt.scatter(this[:,0],this[:,1], c = 'g')\n",
    "\n",
    "\n",
    "this = observX[np.asarray(chan_datas[1][:,0], dtype='int')]\n",
    "plt.scatter(this[:,0],this[:,1], c = 'r')\n",
    "\n",
    "this = observX[np.asarray(chan_datas[2][:,0], dtype='int')]\n",
    "plt.scatter(this[:,0],this[:,1], c = 'b')"
   ]
  },
  {
   "cell_type": "code",
   "execution_count": null,
   "metadata": {},
   "outputs": [],
   "source": []
  },
  {
   "cell_type": "code",
   "execution_count": 208,
   "metadata": {},
   "outputs": [],
   "source": [
    "from sklearn.gaussian_process.kernels import RBF\n",
    "from sklearn.gaussian_process.kernels import ConstantKernel\n",
    "from sklearn.gaussian_process.kernels import WhiteKernel\n",
    "from sklearn.gaussian_process.kernels import Matern\n",
    "from sklearn.gaussian_process.kernels import RationalQuadratic\n",
    "from sklearn.gaussian_process import GaussianProcessRegressor\n",
    "\n",
    "def get_gp(X, y, alpha=10**-3, kernel_name='const_rbf', seed = 1234):\n",
    "    kernel = ConstantKernel(\n",
    "#             constant_value_bounds=[1.,100.0]\n",
    "            ) * Matern(\n",
    "                length_scale_bounds=[2.,10.], length_scale = [10.,10.,1.,1.],\n",
    "            ) + WhiteKernel(noise_level_bounds=[1.,3.]\n",
    "#                 constant_value_bounds=[0,0.001]\n",
    "#             ) * Matern(\n",
    "#                 length_scale_bounds=[.001,100]\n",
    "            )\n",
    "    gp = GaussianProcessRegressor(kernel=kernel, n_restarts_optimizer=10, alpha=alpha, random_state=seed)\n",
    "    gp.fit(X, y.ravel())\n",
    "    return gp\n",
    "# ConstantKernel?"
   ]
  },
  {
   "cell_type": "code",
   "execution_count": 209,
   "metadata": {},
   "outputs": [
    {
     "data": {
      "text/plain": [
       "(60, 5)"
      ]
     },
     "execution_count": 209,
     "metadata": {},
     "output_type": "execute_result"
    }
   ],
   "source": [
    "for_gp = []\n",
    "for nchan in meas_chan:\n",
    "    thisX = observX[np.asarray(chan_datas[nchan][:,0], dtype='int')]\n",
    "    thisA = chan_datas[0][:,1:]\n",
    "    v = truth(thisX,thisA)\n",
    "    full_chan_data = np.concatenate([chan_datas[nchan],v.reshape(-1,1)],axis=1)\n",
    "    all_in_one = np.concatenate([observX[np.asarray(full_chan_data[:,0],dtype='int')],full_chan_data[:,1:]],axis=1)\n",
    "    for_gp.append(all_in_one)\n",
    "for_gp = np.concatenate(for_gp)\n",
    "# len(for_gp),len(observX)\n",
    "# for_gp[0].shape\n",
    "for_gp.shape"
   ]
  },
  {
   "cell_type": "code",
   "execution_count": 210,
   "metadata": {
    "scrolled": false
   },
   "outputs": [],
   "source": [
    "# full_chan_data = np.concatenate([chan_datas[1],v.reshape(-1,1)],axis=1)\n",
    "# thisX = observX[np.asarray(chan_datas[0][:,0], dtype='int')]\n",
    "# thisA = chan_datas[0][:,1:]\n",
    "# v = truth(thisX,thisA)\n",
    "\n",
    "# np.random.choice(obvervX)\n",
    "\n",
    "\n",
    "# for_gp = np.concatenate([observX[np.asarray(full_chan_data[:,0],dtype='int')],full_chan_data[:,1:]],axis=1)\n",
    "for_gp_X = for_gp[:,:4]\n",
    "for_gp_y = for_gp[:,4]\n",
    "gp = get_gp(for_gp_X,for_gp_y)"
   ]
  },
  {
   "cell_type": "code",
   "execution_count": 211,
   "metadata": {},
   "outputs": [],
   "source": [
    "def plot(a0,a1):\n",
    "    alphas = [a0,a1]\n",
    "\n",
    "    f,axarr = plt.subplots(1,3)\n",
    "\n",
    "    f.set_size_inches(15,5)\n",
    "\n",
    "    \n",
    "    vmin,vmax = 40,60 \n",
    "    \n",
    "    ax = axarr[0]\n",
    "    X = np.mgrid[0:10:31j,0:10:31j]\n",
    "    evalX = np.einsum('abc->bca',X).reshape(31**2,2)\n",
    "    evalA = np.einsum('x,a->xa',np.ones((len(evalX),)),alphas)\n",
    "    ax.scatter(evalX[:,0],evalX[:,1], c = truth(evalX,evalA), vmin = vmin,vmax = vmax)\n",
    "    ax.set_ylim(0,10)\n",
    "    ax.set_xlim(0,10)\n",
    "    \n",
    "#     evalX  = observX[global_chan_numbers]\n",
    "#     evalA = np.einsum('x,a->xa',np.ones((len(evalX),)),alphas)\n",
    "    w,werr = gp.predict(np.concatenate([evalX,evalA],axis=1), return_std = True)\n",
    "    \n",
    "    \n",
    "    ax = axarr[1]\n",
    "    ax.set_xlim(0,10)\n",
    "    ax.set_ylim(0,10)\n",
    "    ax.scatter(evalX[:,0],evalX[:,1], c = w, vmin = vmin,vmax = vmax)\n",
    "\n",
    "\n",
    "    evalX  = observX[global_chan_numbers]\n",
    "    evalA = np.einsum('x,a->xa',np.ones((len(evalX),)),alphas)\n",
    "\n",
    "    ax.scatter(evalX[:,0],evalX[:,1], c = 'r')\n",
    "\n",
    "\n",
    "    w,werr = gp.predict(np.concatenate([evalX,evalA],axis=1), return_std = True)\n",
    "    t = truth(evalX,evalA)\n",
    "    \n",
    "    ax = axarr[2]\n",
    "    for sl in sli:\n",
    "        bin_num = global_chan_numbers[sl]\n",
    "        ch_y = w[sl]\n",
    "        ch_t = t[sl]\n",
    "        y_m_err = (w-werr)[sl]\n",
    "        y_p_err = (w+werr)[sl]\n",
    "        ax.fill_between(bin_num,y_m_err,y_p_err, facecolor = 'grey', alpha = 0.2)\n",
    "        ax.scatter(bin_num,ch_y)\n",
    "        ax.plot(bin_num,ch_y)\n",
    "        ax.plot(bin_num,ch_t, c = 'k', linestyle = 'dotted', alpha = 0.5)\n",
    "    ax.set_ylim(0,1.2*vmax)"
   ]
  },
  {
   "cell_type": "code",
   "execution_count": 212,
   "metadata": {},
   "outputs": [
    {
     "data": {
      "application/vnd.jupyter.widget-view+json": {
       "model_id": "e586757e4516475f89e7a54b6aaff50a",
       "version_major": 2,
       "version_minor": 0
      },
      "text/plain": [
       "interactive(children=(FloatSlider(value=0.0, description='a0', max=1.0, min=-1.0), FloatSlider(value=0.0, desc…"
      ]
     },
     "metadata": {},
     "output_type": "display_data"
    },
    {
     "data": {
      "text/plain": [
       "<function __main__.plot(a0, a1)>"
      ]
     },
     "execution_count": 212,
     "metadata": {},
     "output_type": "execute_result"
    }
   ],
   "source": [
    "from ipywidgets import interact\n",
    "interact(plot, a0 = (-1,1,0.1), a1 = (-1,1,0.1))"
   ]
  },
  {
   "cell_type": "code",
   "execution_count": 177,
   "metadata": {},
   "outputs": [],
   "source": [
    "Matern?"
   ]
  },
  {
   "cell_type": "code",
   "execution_count": null,
   "metadata": {},
   "outputs": [],
   "source": []
  }
 ],
 "metadata": {
  "kernelspec": {
   "display_name": "Python 3",
   "language": "python",
   "name": "python3"
  },
  "language_info": {
   "codemirror_mode": {
    "name": "ipython",
    "version": 3
   },
   "file_extension": ".py",
   "mimetype": "text/x-python",
   "name": "python",
   "nbconvert_exporter": "python",
   "pygments_lexer": "ipython3",
   "version": "3.5.1"
  }
 },
 "nbformat": 4,
 "nbformat_minor": 2
}
